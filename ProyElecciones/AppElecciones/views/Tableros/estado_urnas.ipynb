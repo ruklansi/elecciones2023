{
 "cells": [
  {
   "cell_type": "code",
   "execution_count": 56,
   "id": "9cb59f06",
   "metadata": {},
   "outputs": [],
   "source": [
    "from django.conf import settings\n",
    "import geopandas\n",
    "import pandas as pd\n",
    "#from django_plotly_dash import DjangoDash\n",
    "from sqlalchemy import create_engine\n",
    "from dash import dcc,dash_table,html,Dash\n",
    "from dash.dependencies import Input,Output,State\n",
    "import dash_bootstrap_components as dbc\n",
    "import plotly.express as px\n",
    "import dash_bootstrap_components as dbc\n",
    "import plotly.graph_objects as go\n",
    "import shapely\n",
    "from django_plotly_dash import DjangoDash\n",
    "\n",
    "HOST ='localhost' #settings.DATABASES['default']['HOST']\n",
    "NAME= 'elecciones23'#settings.DATABASES['default']['NAME']\n",
    "PASS='4rcg1s2024'#settings.DATABASES['default']['PASSWORD']\n",
    "conn = create_engine(\"postgresql+psycopg2://elecciones23:\"+PASS+\"@\"+HOST+\":5432/\"+NAME)"
   ]
  },
  {
   "cell_type": "code",
   "execution_count": 57,
   "id": "7f87bea9",
   "metadata": {},
   "outputs": [
    {
     "data": {
      "application/vnd.plotly.v1+json": {
       "config": {
        "plotlyServerURL": "https://plot.ly"
       },
       "data": [
        {
         "customdata": [
          [
           "CHACO",
           "-",
           "E.G.B. N° 240 \"PEDRO ARATA\"",
           "24",
           "130",
           "9 DE JULIO 14",
           "(SP) SUBOFICIAL PRINCIPAL",
           "ALCIDES RAMON",
           "LOPEZ",
           "3624005138",
           1,
           2,
           "CONTINÚA VOTACIÓN",
           -26.60118183176818,
           -60.94509279730119
          ],
          [
           "CHACO",
           "-",
           "E.G.B. N° 657 \"DR.ANCHORENA\"",
           "24",
           "131",
           "ALFREDO BRUGNOLI Y RUTA 16",
           "(SM) SUBOFICIAL MAYOR",
           "JOSE LUIS",
           "ENCINA",
           "1136195015",
           1,
           2,
           "CONTINÚA VOTACIÓN",
           -26.50704466455585,
           -61.18227124214172
          ],
          [
           "CHACO",
           "-",
           "E.E.T. N° 12 MARIA  ROSA ALMADOZ",
           "25",
           "136",
           "J.J.CASTELLI 100",
           "(CI) CABO PRIMERO",
           "RAMON",
           "ESPINOZA",
           "3625238625",
           1,
           2,
           "CONTINÚA VOTACIÓN",
           -25.94826340428961,
           -60.60969865324295
          ],
          [
           "CHACO",
           "-",
           "U.E.P. N° 24 SAN JOSE",
           "25",
           "136",
           "PADRE HOLZER 350",
           "(SI) SARGENTO PRIMERO",
           "MATIAS",
           "RUIZ DIAS",
           "3482694257",
           2,
           2,
           "CONTINÚA VOTACIÓN",
           -25.94543163403804,
           -60.62198208644986
          ],
          [
           "CHACO",
           "-",
           "E.G.B. N° 802",
           "25",
           "136",
           "J.M.DE ROSAS S/N°",
           "(SG) SARGENTO",
           "MARCELO EMANUEL",
           "GALLARDO",
           "2995240465",
           2,
           2,
           "CONTINÚA VOTACIÓN",
           -25.94893362044338,
           -60.62765764072538
          ],
          [
           "CHACO",
           "-",
           "E.E.P. N° 481 \"JUAN XXIII\"",
           "23",
           "129",
           "JOSE RAMOS S/N°",
           "(SG) SARGENTO",
           "ANGEL",
           "PIRIS",
           "3644571555",
           1,
           2,
           "CONTINÚA VOTACIÓN",
           -27.914567,
           -61.402293
          ],
          [
           "CHACO",
           "-",
           "E.G.B. N° 111 \"JUAN TERAN\"",
           "24",
           "131",
           "RECONQUISTA 250",
           "(SG) SARGENTO",
           "HERNAN",
           "MENDOZA",
           "3794111180",
           1,
           2,
           "CONTINÚA VOTACIÓN",
           -26.50664052110381,
           -61.17198497056961
          ],
          [
           "CHACO",
           "-",
           "E.G.B. N° 460 \"PATRICIAS ARG.\"",
           "24",
           "132",
           "SARMIENTO S/N°",
           "(SI) SARGENTO PRIMERO",
           "HECTOR JUAN",
           "MORINIGO",
           "1153150688",
           1,
           2,
           "CONTINÚA VOTACIÓN",
           -26.40501685391845,
           -61.41587555408477
          ],
          [
           "CHACO",
           "-",
           "E.E.S. N° 21 \"GDOR. CASTELL\"",
           "24",
           "133",
           "SARMIENTO S/N°",
           "(SG) SARGENTO",
           "FERNANDO EXEQUIEL",
           "MAIDANA",
           "2944627868",
           1,
           2,
           "CONTINÚA VOTACIÓN",
           -25.61388985667162,
           -63.2657065987587
          ],
          [
           "CHACO",
           "-",
           "EES NRO 97 (EX CEP NRO 97)",
           "25",
           "134D",
           "PLANTA URBANA S/N",
           "(SP) SUBOFICIAL PRINCIPAL",
           "JUAN RAMON",
           "BENITEZ",
           "3624553205",
           1,
           2,
           "CONTINÚA VOTACIÓN",
           -24.93405894921247,
           -61.48410218955178
          ],
          [
           "CHACO",
           "-",
           "E.G.B. N° 821",
           "25",
           "134B",
           "CARLOS S. MENEN S/N°",
           "(CI) CABO PRIMERO",
           "MAURO DANIEL",
           "RAMIREZ",
           "1123892689",
           1,
           2,
           "CONTINÚA VOTACIÓN",
           -24.42886519044668,
           -61.6823798418045
          ],
          [
           "CHACO",
           "-",
           "E.G.B. N° 517 \"O.DE ZARATE\"",
           "25",
           "134C",
           "WICHI - EL PINTADO",
           "(CI) CABO PRIMERO",
           "RAMON ALFREDO",
           "URBINA",
           "3794396830",
           1,
           2,
           "CONTINÚA VOTACIÓN",
           -24.689944,
           -61.424772
          ],
          [
           "CHACO",
           "-",
           "E.G.B. N° 780",
           "25",
           "134A",
           "COMANDANCIA FRIAS",
           "(CB) CABO",
           "RODRIGO EZEQUIEL",
           "GOMEZ",
           "1140953678",
           1,
           2,
           "CONTINÚA VOTACIÓN",
           -24.561732,
           -62.239437
          ],
          [
           "CHACO",
           "-",
           "U.E.P. N° 36 \"PIO XII\"",
           "25",
           "136",
           "GOBERNADOR GOITIA 545",
           "(SP) SUBOFICIAL PRINCIPAL",
           "JOSE LUIS",
           "GALARZA",
           "3624048268",
           1,
           2,
           "CONTINÚA VOTACIÓN",
           -25.94355555935262,
           -60.620193220675
          ],
          [
           "CHACO",
           "-",
           "E.G.B. N° 671 \"R.GUIRALDES\"",
           "24",
           "130",
           "M.MORENO 560",
           "(SM) SUBOFICIAL MAYOR",
           "CARLOS ALBERTO",
           "BIANCHETI",
           "3794570083",
           1,
           2,
           "CONTINÚA VOTACIÓN",
           -26.59754091425779,
           -60.94728039577603
          ],
          [
           "CHACO",
           "-",
           "E.E.P. Nº 454 \"SOLDADO RUBÉN H. GÓMEZ\"",
           "6",
           "47",
           "MANUEL BELGRANO S/N",
           "(SX) SUBOFICIAL AUXILIAR",
           "JOSE LUIS",
           "FLORENTIN",
           "3624965835",
           1,
           2,
           "POR ORDEN DE LA JUSTICIA ELECTORAL",
           -27.00666,
           -59.844713
          ],
          [
           "CHACO",
           "-",
           "EGB NRO 358. IGLESIA DE DIOS NAZARENA",
           "25",
           "137",
           "ZAPARINQUI",
           "(SG) SARGENTO",
           "DAMIAN EUGENIO",
           "PEÑA",
           "3764529524",
           1,
           2,
           "CONTINÚA VOTACIÓN",
           -26.06745237252168,
           -60.56338030100959
          ],
          [
           "CHACO",
           "-",
           "E.G.B. N° 255 \"FELIPE BOERO\"",
           "25",
           "136",
           "R.DE ESCALADA 850",
           "(SG) SARGENTO",
           "JULIO JOAQUIN",
           "SANCHEZ",
           "3624038183",
           2,
           2,
           "CONTINÚA VOTACIÓN",
           -25.94734182135249,
           -60.61472939327359
          ],
          [
           "CHACO",
           "-",
           "E.G.B. N° 3 \"ANT.ARGENTINA\"",
           "1",
           "16C",
           "SALTA Nº 1146",
           "(SI) SARGENTO PRIMERO",
           "CINTHIA SOLEDAD",
           "PUYOL",
           "3625555369",
           1,
           2,
           "POR ORDEN DE LA JUSTICIA ELECTORAL",
           -27.444045,
           -58.999074
          ],
          [
           "CHACO",
           "-",
           "EGB NRO 62 \"V. FEILBERG\"",
           "1",
           "20",
           "Bº FABIANA NORTE",
           "(CI) CABO PRIMERO",
           "RAMON ISAAC",
           "VILLANUEVA",
           "3777605379",
           1,
           2,
           "POR ORDEN DE LA JUSTICIA ELECTORAL",
           -27.417796,
           -58.93737
          ],
          [
           "CHACO",
           "-",
           "JARDÍN DE INFANTES Nº 232",
           "1",
           "20",
           "AMERI 3989",
           "(CB) CABO",
           "LUIS FERNANDO",
           "GUTIERREZ",
           "3875887427",
           1,
           2,
           "POR ORDEN DE LA JUSTICIA ELECTORAL",
           -27.405781,
           -58.966775
          ],
          [
           "CHACO",
           "-",
           "E.G.B. N° 928 \"PROF.ORELLANA\"",
           "24",
           "133",
           "SALTA S/N°",
           "(SM) SUBOFICIAL MAYOR",
           "GUSTAVO RAMON",
           "ENCINA",
           "3794570083",
           1,
           2,
           "CONTINÚA VOTACIÓN",
           -25.61973340761337,
           -63.26712548732758
          ],
          [
           "CHACO",
           "-",
           "E.G.B. N° 633 \"E.CHITTY BROWN\"",
           "24",
           "132A",
           "RIO MUERTO",
           "(SP) SUBOFICIAL PRINCIPAL",
           "MARCELO FRANCISCO",
           "GOYTIA",
           "3624390305",
           1,
           2,
           "CONTINÚA VOTACIÓN",
           -26.304996,
           -61.658969
          ],
          [
           "CHACO",
           "-",
           "E.G.B. N° 448",
           "25",
           "139",
           "M:9 EL ESPINILLO",
           "(SG) SARGENTO",
           "OSVALDO RAMON",
           "FARIAS",
           "3644575107",
           1,
           2,
           "CONTINÚA VOTACIÓN",
           -25.409505,
           -60.448048
          ],
          [
           "CHACO",
           "-",
           "E.E.E. Nº 29 \"MAESTRO JOSE EFRAIN MUGUILNER VARZAN\"",
           "1",
           "12",
           "DEMOCRACIA LOTE 22-",
           "(CP) CABO PRINCIPAL",
           "SANTIAGO",
           "GODOY",
           "3794247889",
           1,
           2,
           "POR ORDEN DE LA JUSTICIA ELECTORAL",
           -27.516045,
           -58.941268
          ]
         ],
         "hovertemplate": "<b>Nombre:</b> %{customdata[2]}<br><b>Distrito:</b> %{customdata[0]}<br><b>Subdistrito:</b> %{customdata[1]}<br><b>Sección:</b> %{customdata[3]}<br><b>Circuito:</b> %{customdata[4]}<br><b>Dirección:</b> %{customdata[5]}<br><b>J loc:</b> %{customdata[6]} %{customdata[8]} %{customdata[7]}<br><b>Tel J Loc:</b> %{customdata[9]}<br><b>Auxiliares:</b> %{customdata[10]}<br><b>Seg Ext:</b> %{customdata[11]}<br><b>Estado Causa:</b> %{customdata[12]}",
         "hovertext": [
          "E.G.B. N° 240 \"PEDRO ARATA\"",
          "E.G.B. N° 657 \"DR.ANCHORENA\"",
          "E.E.T. N° 12 MARIA  ROSA ALMADOZ",
          "U.E.P. N° 24 SAN JOSE",
          "E.G.B. N° 802",
          "E.E.P. N° 481 \"JUAN XXIII\"",
          "E.G.B. N° 111 \"JUAN TERAN\"",
          "E.G.B. N° 460 \"PATRICIAS ARG.\"",
          "E.E.S. N° 21 \"GDOR. CASTELL\"",
          "EES NRO 97 (EX CEP NRO 97)",
          "E.G.B. N° 821",
          "E.G.B. N° 517 \"O.DE ZARATE\"",
          "E.G.B. N° 780",
          "U.E.P. N° 36 \"PIO XII\"",
          "E.G.B. N° 671 \"R.GUIRALDES\"",
          "E.E.P. Nº 454 \"SOLDADO RUBÉN H. GÓMEZ\"",
          "EGB NRO 358. IGLESIA DE DIOS NAZARENA",
          "E.G.B. N° 255 \"FELIPE BOERO\"",
          "E.G.B. N° 3 \"ANT.ARGENTINA\"",
          "EGB NRO 62 \"V. FEILBERG\"",
          "JARDÍN DE INFANTES Nº 232",
          "E.G.B. N° 928 \"PROF.ORELLANA\"",
          "E.G.B. N° 633 \"E.CHITTY BROWN\"",
          "E.G.B. N° 448",
          "E.E.E. Nº 29 \"MAESTRO JOSE EFRAIN MUGUILNER VARZAN\""
         ],
         "lat": [
          -26.60118183176818,
          -26.50704466455585,
          -25.94826340428961,
          -25.94543163403804,
          -25.94893362044338,
          -27.914567,
          -26.50664052110381,
          -26.40501685391845,
          -25.61388985667162,
          -24.93405894921247,
          -24.42886519044668,
          -24.689944,
          -24.561732,
          -25.94355555935262,
          -26.59754091425779,
          -27.00666,
          -26.06745237252168,
          -25.94734182135249,
          -27.444045,
          -27.417796,
          -27.405781,
          -25.61973340761337,
          -26.304996,
          -25.409505,
          -27.516045
         ],
         "legendgroup": "",
         "lon": [
          -60.94509279730119,
          -61.18227124214172,
          -60.60969865324295,
          -60.62198208644986,
          -60.62765764072538,
          -61.402293,
          -61.17198497056961,
          -61.41587555408477,
          -63.2657065987587,
          -61.48410218955178,
          -61.6823798418045,
          -61.424772,
          -62.239437,
          -60.620193220675,
          -60.94728039577603,
          -59.844713,
          -60.56338030100959,
          -60.61472939327359,
          -58.999074,
          -58.93737,
          -58.966775,
          -63.26712548732758,
          -61.658969,
          -60.448048,
          -58.941268
         ],
         "marker": {
          "color": [
           1,
           1,
           1,
           1,
           1,
           1,
           1,
           1,
           1,
           1,
           1,
           1,
           1,
           1,
           1,
           1,
           1,
           1,
           1,
           1,
           1,
           1,
           1,
           1,
           1
          ],
          "coloraxis": "coloraxis",
          "size": 13
         },
         "mode": "markers",
         "name": "",
         "showlegend": false,
         "subplot": "mapbox",
         "type": "scattermapbox"
        }
       ],
       "layout": {
        "coloraxis": {
         "cmax": 1,
         "cmin": 0,
         "colorbar": {
          "title": {
           "text": "validado"
          }
         },
         "colorscale": [
          [
           0,
           "red"
          ],
          [
           0.5,
           "orange"
          ],
          [
           1,
           "red"
          ]
         ],
         "showscale": false
        },
        "geo": {
         "fitbounds": "locations"
        },
        "height": 750,
        "hoverlabel": {
         "bgcolor": "#ffffff"
        },
        "legend": {
         "tracegroupgap": 0
        },
        "mapbox": {
         "center": {
          "lat": -26.18744086406184,
          "lon": -60.8752871749077
         },
         "domain": {
          "x": [
           0,
           1
          ],
          "y": [
           0,
           1
          ]
         },
         "style": "open-street-map",
         "zoom": 4
        },
        "margin": {
         "b": 0,
         "l": 0,
         "r": 0,
         "t": 0
        },
        "template": {
         "data": {
          "bar": [
           {
            "error_x": {
             "color": "#2a3f5f"
            },
            "error_y": {
             "color": "#2a3f5f"
            },
            "marker": {
             "line": {
              "color": "#E5ECF6",
              "width": 0.5
             },
             "pattern": {
              "fillmode": "overlay",
              "size": 10,
              "solidity": 0.2
             }
            },
            "type": "bar"
           }
          ],
          "barpolar": [
           {
            "marker": {
             "line": {
              "color": "#E5ECF6",
              "width": 0.5
             },
             "pattern": {
              "fillmode": "overlay",
              "size": 10,
              "solidity": 0.2
             }
            },
            "type": "barpolar"
           }
          ],
          "carpet": [
           {
            "aaxis": {
             "endlinecolor": "#2a3f5f",
             "gridcolor": "white",
             "linecolor": "white",
             "minorgridcolor": "white",
             "startlinecolor": "#2a3f5f"
            },
            "baxis": {
             "endlinecolor": "#2a3f5f",
             "gridcolor": "white",
             "linecolor": "white",
             "minorgridcolor": "white",
             "startlinecolor": "#2a3f5f"
            },
            "type": "carpet"
           }
          ],
          "choropleth": [
           {
            "colorbar": {
             "outlinewidth": 0,
             "ticks": ""
            },
            "type": "choropleth"
           }
          ],
          "contour": [
           {
            "colorbar": {
             "outlinewidth": 0,
             "ticks": ""
            },
            "colorscale": [
             [
              0,
              "#0d0887"
             ],
             [
              0.1111111111111111,
              "#46039f"
             ],
             [
              0.2222222222222222,
              "#7201a8"
             ],
             [
              0.3333333333333333,
              "#9c179e"
             ],
             [
              0.4444444444444444,
              "#bd3786"
             ],
             [
              0.5555555555555556,
              "#d8576b"
             ],
             [
              0.6666666666666666,
              "#ed7953"
             ],
             [
              0.7777777777777778,
              "#fb9f3a"
             ],
             [
              0.8888888888888888,
              "#fdca26"
             ],
             [
              1,
              "#f0f921"
             ]
            ],
            "type": "contour"
           }
          ],
          "contourcarpet": [
           {
            "colorbar": {
             "outlinewidth": 0,
             "ticks": ""
            },
            "type": "contourcarpet"
           }
          ],
          "heatmap": [
           {
            "colorbar": {
             "outlinewidth": 0,
             "ticks": ""
            },
            "colorscale": [
             [
              0,
              "#0d0887"
             ],
             [
              0.1111111111111111,
              "#46039f"
             ],
             [
              0.2222222222222222,
              "#7201a8"
             ],
             [
              0.3333333333333333,
              "#9c179e"
             ],
             [
              0.4444444444444444,
              "#bd3786"
             ],
             [
              0.5555555555555556,
              "#d8576b"
             ],
             [
              0.6666666666666666,
              "#ed7953"
             ],
             [
              0.7777777777777778,
              "#fb9f3a"
             ],
             [
              0.8888888888888888,
              "#fdca26"
             ],
             [
              1,
              "#f0f921"
             ]
            ],
            "type": "heatmap"
           }
          ],
          "heatmapgl": [
           {
            "colorbar": {
             "outlinewidth": 0,
             "ticks": ""
            },
            "colorscale": [
             [
              0,
              "#0d0887"
             ],
             [
              0.1111111111111111,
              "#46039f"
             ],
             [
              0.2222222222222222,
              "#7201a8"
             ],
             [
              0.3333333333333333,
              "#9c179e"
             ],
             [
              0.4444444444444444,
              "#bd3786"
             ],
             [
              0.5555555555555556,
              "#d8576b"
             ],
             [
              0.6666666666666666,
              "#ed7953"
             ],
             [
              0.7777777777777778,
              "#fb9f3a"
             ],
             [
              0.8888888888888888,
              "#fdca26"
             ],
             [
              1,
              "#f0f921"
             ]
            ],
            "type": "heatmapgl"
           }
          ],
          "histogram": [
           {
            "marker": {
             "pattern": {
              "fillmode": "overlay",
              "size": 10,
              "solidity": 0.2
             }
            },
            "type": "histogram"
           }
          ],
          "histogram2d": [
           {
            "colorbar": {
             "outlinewidth": 0,
             "ticks": ""
            },
            "colorscale": [
             [
              0,
              "#0d0887"
             ],
             [
              0.1111111111111111,
              "#46039f"
             ],
             [
              0.2222222222222222,
              "#7201a8"
             ],
             [
              0.3333333333333333,
              "#9c179e"
             ],
             [
              0.4444444444444444,
              "#bd3786"
             ],
             [
              0.5555555555555556,
              "#d8576b"
             ],
             [
              0.6666666666666666,
              "#ed7953"
             ],
             [
              0.7777777777777778,
              "#fb9f3a"
             ],
             [
              0.8888888888888888,
              "#fdca26"
             ],
             [
              1,
              "#f0f921"
             ]
            ],
            "type": "histogram2d"
           }
          ],
          "histogram2dcontour": [
           {
            "colorbar": {
             "outlinewidth": 0,
             "ticks": ""
            },
            "colorscale": [
             [
              0,
              "#0d0887"
             ],
             [
              0.1111111111111111,
              "#46039f"
             ],
             [
              0.2222222222222222,
              "#7201a8"
             ],
             [
              0.3333333333333333,
              "#9c179e"
             ],
             [
              0.4444444444444444,
              "#bd3786"
             ],
             [
              0.5555555555555556,
              "#d8576b"
             ],
             [
              0.6666666666666666,
              "#ed7953"
             ],
             [
              0.7777777777777778,
              "#fb9f3a"
             ],
             [
              0.8888888888888888,
              "#fdca26"
             ],
             [
              1,
              "#f0f921"
             ]
            ],
            "type": "histogram2dcontour"
           }
          ],
          "mesh3d": [
           {
            "colorbar": {
             "outlinewidth": 0,
             "ticks": ""
            },
            "type": "mesh3d"
           }
          ],
          "parcoords": [
           {
            "line": {
             "colorbar": {
              "outlinewidth": 0,
              "ticks": ""
             }
            },
            "type": "parcoords"
           }
          ],
          "pie": [
           {
            "automargin": true,
            "type": "pie"
           }
          ],
          "scatter": [
           {
            "fillpattern": {
             "fillmode": "overlay",
             "size": 10,
             "solidity": 0.2
            },
            "type": "scatter"
           }
          ],
          "scatter3d": [
           {
            "line": {
             "colorbar": {
              "outlinewidth": 0,
              "ticks": ""
             }
            },
            "marker": {
             "colorbar": {
              "outlinewidth": 0,
              "ticks": ""
             }
            },
            "type": "scatter3d"
           }
          ],
          "scattercarpet": [
           {
            "marker": {
             "colorbar": {
              "outlinewidth": 0,
              "ticks": ""
             }
            },
            "type": "scattercarpet"
           }
          ],
          "scattergeo": [
           {
            "marker": {
             "colorbar": {
              "outlinewidth": 0,
              "ticks": ""
             }
            },
            "type": "scattergeo"
           }
          ],
          "scattergl": [
           {
            "marker": {
             "colorbar": {
              "outlinewidth": 0,
              "ticks": ""
             }
            },
            "type": "scattergl"
           }
          ],
          "scattermapbox": [
           {
            "marker": {
             "colorbar": {
              "outlinewidth": 0,
              "ticks": ""
             }
            },
            "type": "scattermapbox"
           }
          ],
          "scatterpolar": [
           {
            "marker": {
             "colorbar": {
              "outlinewidth": 0,
              "ticks": ""
             }
            },
            "type": "scatterpolar"
           }
          ],
          "scatterpolargl": [
           {
            "marker": {
             "colorbar": {
              "outlinewidth": 0,
              "ticks": ""
             }
            },
            "type": "scatterpolargl"
           }
          ],
          "scatterternary": [
           {
            "marker": {
             "colorbar": {
              "outlinewidth": 0,
              "ticks": ""
             }
            },
            "type": "scatterternary"
           }
          ],
          "surface": [
           {
            "colorbar": {
             "outlinewidth": 0,
             "ticks": ""
            },
            "colorscale": [
             [
              0,
              "#0d0887"
             ],
             [
              0.1111111111111111,
              "#46039f"
             ],
             [
              0.2222222222222222,
              "#7201a8"
             ],
             [
              0.3333333333333333,
              "#9c179e"
             ],
             [
              0.4444444444444444,
              "#bd3786"
             ],
             [
              0.5555555555555556,
              "#d8576b"
             ],
             [
              0.6666666666666666,
              "#ed7953"
             ],
             [
              0.7777777777777778,
              "#fb9f3a"
             ],
             [
              0.8888888888888888,
              "#fdca26"
             ],
             [
              1,
              "#f0f921"
             ]
            ],
            "type": "surface"
           }
          ],
          "table": [
           {
            "cells": {
             "fill": {
              "color": "#EBF0F8"
             },
             "line": {
              "color": "white"
             }
            },
            "header": {
             "fill": {
              "color": "#C8D4E3"
             },
             "line": {
              "color": "white"
             }
            },
            "type": "table"
           }
          ]
         },
         "layout": {
          "annotationdefaults": {
           "arrowcolor": "#2a3f5f",
           "arrowhead": 0,
           "arrowwidth": 1
          },
          "autotypenumbers": "strict",
          "coloraxis": {
           "colorbar": {
            "outlinewidth": 0,
            "ticks": ""
           }
          },
          "colorscale": {
           "diverging": [
            [
             0,
             "#8e0152"
            ],
            [
             0.1,
             "#c51b7d"
            ],
            [
             0.2,
             "#de77ae"
            ],
            [
             0.3,
             "#f1b6da"
            ],
            [
             0.4,
             "#fde0ef"
            ],
            [
             0.5,
             "#f7f7f7"
            ],
            [
             0.6,
             "#e6f5d0"
            ],
            [
             0.7,
             "#b8e186"
            ],
            [
             0.8,
             "#7fbc41"
            ],
            [
             0.9,
             "#4d9221"
            ],
            [
             1,
             "#276419"
            ]
           ],
           "sequential": [
            [
             0,
             "#0d0887"
            ],
            [
             0.1111111111111111,
             "#46039f"
            ],
            [
             0.2222222222222222,
             "#7201a8"
            ],
            [
             0.3333333333333333,
             "#9c179e"
            ],
            [
             0.4444444444444444,
             "#bd3786"
            ],
            [
             0.5555555555555556,
             "#d8576b"
            ],
            [
             0.6666666666666666,
             "#ed7953"
            ],
            [
             0.7777777777777778,
             "#fb9f3a"
            ],
            [
             0.8888888888888888,
             "#fdca26"
            ],
            [
             1,
             "#f0f921"
            ]
           ],
           "sequentialminus": [
            [
             0,
             "#0d0887"
            ],
            [
             0.1111111111111111,
             "#46039f"
            ],
            [
             0.2222222222222222,
             "#7201a8"
            ],
            [
             0.3333333333333333,
             "#9c179e"
            ],
            [
             0.4444444444444444,
             "#bd3786"
            ],
            [
             0.5555555555555556,
             "#d8576b"
            ],
            [
             0.6666666666666666,
             "#ed7953"
            ],
            [
             0.7777777777777778,
             "#fb9f3a"
            ],
            [
             0.8888888888888888,
             "#fdca26"
            ],
            [
             1,
             "#f0f921"
            ]
           ]
          },
          "colorway": [
           "#636efa",
           "#EF553B",
           "#00cc96",
           "#ab63fa",
           "#FFA15A",
           "#19d3f3",
           "#FF6692",
           "#B6E880",
           "#FF97FF",
           "#FECB52"
          ],
          "font": {
           "color": "#2a3f5f"
          },
          "geo": {
           "bgcolor": "white",
           "lakecolor": "white",
           "landcolor": "#E5ECF6",
           "showlakes": true,
           "showland": true,
           "subunitcolor": "white"
          },
          "hoverlabel": {
           "align": "left"
          },
          "hovermode": "closest",
          "mapbox": {
           "style": "light"
          },
          "paper_bgcolor": "white",
          "plot_bgcolor": "#E5ECF6",
          "polar": {
           "angularaxis": {
            "gridcolor": "white",
            "linecolor": "white",
            "ticks": ""
           },
           "bgcolor": "#E5ECF6",
           "radialaxis": {
            "gridcolor": "white",
            "linecolor": "white",
            "ticks": ""
           }
          },
          "scene": {
           "xaxis": {
            "backgroundcolor": "#E5ECF6",
            "gridcolor": "white",
            "gridwidth": 2,
            "linecolor": "white",
            "showbackground": true,
            "ticks": "",
            "zerolinecolor": "white"
           },
           "yaxis": {
            "backgroundcolor": "#E5ECF6",
            "gridcolor": "white",
            "gridwidth": 2,
            "linecolor": "white",
            "showbackground": true,
            "ticks": "",
            "zerolinecolor": "white"
           },
           "zaxis": {
            "backgroundcolor": "#E5ECF6",
            "gridcolor": "white",
            "gridwidth": 2,
            "linecolor": "white",
            "showbackground": true,
            "ticks": "",
            "zerolinecolor": "white"
           }
          },
          "shapedefaults": {
           "line": {
            "color": "#2a3f5f"
           }
          },
          "ternary": {
           "aaxis": {
            "gridcolor": "white",
            "linecolor": "white",
            "ticks": ""
           },
           "baxis": {
            "gridcolor": "white",
            "linecolor": "white",
            "ticks": ""
           },
           "bgcolor": "#E5ECF6",
           "caxis": {
            "gridcolor": "white",
            "linecolor": "white",
            "ticks": ""
           }
          },
          "title": {
           "x": 0.05
          },
          "xaxis": {
           "automargin": true,
           "gridcolor": "white",
           "linecolor": "white",
           "ticks": "",
           "title": {
            "standoff": 15
           },
           "zerolinecolor": "white",
           "zerolinewidth": 2
          },
          "yaxis": {
           "automargin": true,
           "gridcolor": "white",
           "linecolor": "white",
           "ticks": "",
           "title": {
            "standoff": 15
           },
           "zerolinecolor": "white",
           "zerolinewidth": 2
          }
         }
        }
       }
      }
     },
     "metadata": {},
     "output_type": "display_data"
    }
   ],
   "source": [
    "sql=\"\"\"\n",
    " SELECT * FROM public.despliegue_repliegue\n",
    " \"\"\"\n",
    "df = geopandas.GeoDataFrame.from_postgis(sql, conn)\n",
    "df.to_crs(epsg=4326, inplace=True)\n",
    "df['repliegue']=round(df['replegado']*100/df['total'],2)\n",
    "distritos=df.drop_duplicates('distrito')['distrito'].sort_values()\n",
    "def estado_urnas(distrito):\n",
    "    if distrito and distrito != 'TODOS':\n",
    "        sql_mesas=\"\"\"\n",
    "        SELECT * FROM public.mesas_estados where distrito='\"\"\"+distrito+\"\"\"'\"\"\"\n",
    "    else:\n",
    "        sql_mesas=\"\"\"\n",
    "        SELECT * FROM public.mesas_estados \"\"\"   \n",
    "    df_mesas= pd.read_sql(sql_mesas, conn)\n",
    "    df_mesas=df_mesas.drop(columns=['punto', ])\n",
    "    urnas=len(df_mesas)-df_mesas['entrego_correo'].sum()\n",
    "    urnas_en_correo=df_mesas['entrego_correo'].sum()-df_mesas['entrego_urna_en_led'].sum()\n",
    "\n",
    "    urnas_en_led=df_mesas['entrego_urna_en_led'].sum()\n",
    "    return [str(urnas),str(urnas_en_correo),str(urnas_en_led)]\n",
    "\n",
    "sql_estado_local=\"\"\"select *\n",
    "from cantidad_votos_local where estado_local='NO FINALIZADO' \"\"\"\n",
    "df_local= geopandas.GeoDataFrame.from_postgis(sql_estado_local, conn, geom_col='ubicacion').to_crs(4326)\n",
    "df_local['lon'] = df_local['ubicacion'].x\n",
    "df_local['lat'] = df_local['ubicacion'].y\n",
    "\n",
    "def crear_mapa(datos_mapa, zoom, lat_cen=None, lon_cen=None):\n",
    "    if lat_cen and lon_cen:\n",
    "        center = dict(lat=lat_cen, lon=lon_cen)\n",
    "    else:\n",
    "        center = dict()\n",
    "    mapa = px.scatter_mapbox(data_frame=datos_mapa, lat=\"lat\", lon=\"lon\",\n",
    "                             hover_name=\"nombre\",\n",
    "                             color='validado',\n",
    "                             color_continuous_scale=[[0, 'red'], [0.5, 'orange'], [1.0, 'red']],\n",
    "                             range_color=[0, 1],\n",
    "                           \n",
    "                             hover_data=dict(distrito=True,\n",
    "                                             subdistrito=True,\n",
    "                                             nombre=True,\n",
    "                                             seccion=True,\n",
    "                                             circuito=True,\n",
    "                                             direccion=True,\n",
    "                                             grado_jefe_local=True,\n",
    "                                             nombre_jefe_local=True,\n",
    "                                             apellido_jefe_local=True,\n",
    "                                             telefono_jefe_local=True,\n",
    "                                             castidad_auxiliares=True,\n",
    "                                             cant_efectivos=True,\n",
    "                                             estado_causa=True,\n",
    "                                             lat=False,\n",
    "                                             lon=False,\n",
    "                                             ),\n",
    "                              zoom=zoom, height=750, center=center,\n",
    "                              \n",
    "                             )\n",
    "    mapa.update_traces(\n",
    "\n",
    "        marker={'size': 13},\n",
    "        hovertemplate=\"<br>\".join([\"<b>Nombre:</b> %{customdata[2]}\",\n",
    "                                                  \"<b>Distrito:</b> %{customdata[0]}\",\n",
    "                                                  \"<b>Subdistrito:</b> %{customdata[1]}\",\n",
    "                                                  \"<b>Sección:</b> %{customdata[3]}\",\n",
    "                                                  \"<b>Circuito:</b> %{customdata[4]}\",\n",
    "                                                  \"<b>Dirección:</b> %{customdata[5]}\",\n",
    "                                                  \"<b>J loc:</b> %{customdata[6]} %{customdata[8]} %{customdata[7]}\",\n",
    "                                                  \"<b>Tel J Loc:</b> %{customdata[9]}\",\n",
    "                                                  \"<b>Auxiliares:</b> %{customdata[10]}\",\n",
    "                                                  \"<b>Seg Ext:</b> %{customdata[11]}\",\n",
    "                                                    \"<b>Estado Causa:</b> %{customdata[12]}\",\n",
    "\n",
    "                                                  ]), )\n",
    "    mapa.update_layout(hoverlabel_bgcolor='#ffffff',coloraxis_showscale=False,\n",
    "\n",
    "                       mapbox_style=\"open-street-map\", margin={\"r\": 0, \"t\": 0, \"l\": 0, \"b\": 0}\n",
    "                       )\n",
    "    mapa.update_geos(fitbounds='locations')\n",
    "    return mapa\n",
    "\n",
    "crear_mapa(df_local, zoom=4)"
   ]
  },
  {
   "cell_type": "code",
   "execution_count": 58,
   "id": "a7162039",
   "metadata": {},
   "outputs": [],
   "source": [
    "def crear_porcentaje(df):\n",
    "    data=round(df['repliegue'].mean(skipna = True),2)\n",
    "    titulo='ESTADO DEL REPLIEGUE'\n",
    "    \n",
    "    fig = go.Figure(\n",
    "        go.Indicator(\n",
    "            mode='gauge+number',\n",
    "            value=data,\n",
    "            number={\"font\": {\"size\": 50,\"color\":'white'},'suffix': \"%\"},\n",
    "            domain = {'x': [0, 1], 'y': [0, 1]},\n",
    "            gauge = {\n",
    "                'axis': {'range': [None, 100], 'tickwidth': 2,'tickcolor':'white',},\n",
    "                'bar': {'color': \"red\"},\n",
    "                'borderwidth': 2,\n",
    "                'steps': [\n",
    "                    {'range': [0, 50], 'color': 'pink'},\n",
    "                    {'range': [50, 75], 'color': 'yellow'},\n",
    "                    {'range': [75 ,100], 'color': 'green'}],\n",
    "            }\n",
    "        )\n",
    "    )\n",
    "\n",
    "    fig.update_layout(height=700,title_text=titulo,autosize=True, \n",
    "        font={'color': \"white\", 'family': \"Arial\",'size':20},grid={'rows': 1, 'columns': 1, 'pattern': \"independent\"}, title_x=0.5,\n",
    "        \n",
    "        plot_bgcolor='rgb(40, 40, 40)',\n",
    "    \n",
    "        paper_bgcolor='rgb(40, 40, 40)',\n",
    "    )\n",
    "    return fig"
   ]
  },
  {
   "cell_type": "code",
   "execution_count": 59,
   "id": "7b87deb8",
   "metadata": {},
   "outputs": [
    {
     "data": {
      "text/plain": [
       "DataTable(data=[{'id': 21985, 'distrito': 'CHACO', 'subdistrito': '-', 'seccion': '24', 'circuito': '130', 'nombre': 'E.G.B. N° 240 \"PEDRO ARATA\"', 'localidad': 'C.DEL BERMEJO', 'direccion': '9 DE JULIO 14', 'validado': 1, 'cantidad_mesas': 8, 'cant_efectivos': 2, 'jefe_local_id': 101178, 'fuerza_jefe_local': 'EJERCITO', 'grado_jefe_local': '(SP) SUBOFICIAL PRINCIPAL', 'nombre_jefe_local': 'ALCIDES RAMON', 'apellido_jefe_local': 'LOPEZ', 'telefono_jefe_local': '3624005138', 'castidad_auxiliares': 1, 'votos': 65.0, 'hora': datetime.time(17, 30), 'estado_local': 'NO FINALIZADO', 'estado_causa': 'CONTINÚA VOTACIÓN', 'mesas_no_iniciada': None, 'no_subsanadas': None, 'cant_nov': None, 'situacion': 'Inicio repliegue', 'lon': -60.94509279730119, 'lat': -26.60118183176818}, {'id': 21986, 'distrito': 'CHACO', 'subdistrito': '-', 'seccion': '24', 'circuito': '131', 'nombre': 'E.G.B. N° 657 \"DR.ANCHORENA\"', 'localidad': 'PPA.DEL INFIERNO', 'direccion': 'ALFREDO BRUGNOLI Y RUTA 16', 'validado': 1, 'cantidad_mesas': 10, 'cant_efectivos': 2, 'jefe_local_id': 101165, 'fuerza_jefe_local': 'EJERCITO', 'grado_jefe_local': '(SM) SUBOFICIAL MAYOR', 'nombre_jefe_local': 'JOSE LUIS', 'apellido_jefe_local': 'ENCINA', 'telefono_jefe_local': '1136195015', 'castidad_auxiliares': 1, 'votos': 65.0, 'hora': datetime.time(17, 30), 'estado_local': 'NO FINALIZADO', 'estado_causa': 'CONTINÚA VOTACIÓN', 'mesas_no_iniciada': None, 'no_subsanadas': None, 'cant_nov': None, 'situacion': 'Inicio repliegue', 'lon': -61.18227124214172, 'lat': -26.50704466455585}, {'id': 21975, 'distrito': 'CHACO', 'subdistrito': '-', 'seccion': '25', 'circuito': '136', 'nombre': 'E.E.T. N° 12 MARIA  ROSA ALMADOZ', 'localidad': 'J.J.CASTELLI', 'direccion': 'J.J.CASTELLI 100', 'validado': 1, 'cantidad_mesas': 10, 'cant_efectivos': 2, 'jefe_local_id': 56398, 'fuerza_jefe_local': 'EJERCITO', 'grado_jefe_local': '(CI) CABO PRIMERO', 'nombre_jefe_local': 'RAMON', 'apellido_jefe_local': 'ESPINOZA', 'telefono_jefe_local': '3625238625', 'castidad_auxiliares': 1, 'votos': 65.0, 'hora': datetime.time(17, 30), 'estado_local': 'NO FINALIZADO', 'estado_causa': 'CONTINÚA VOTACIÓN', 'mesas_no_iniciada': None, 'no_subsanadas': None, 'cant_nov': None, 'situacion': 'Inicio repliegue', 'lon': -60.60969865324295, 'lat': -25.94826340428961}, {'id': 21981, 'distrito': 'CHACO', 'subdistrito': '-', 'seccion': '25', 'circuito': '136', 'nombre': 'U.E.P. N° 24 SAN JOSE', 'localidad': 'J.J.CASTELLI', 'direccion': 'PADRE HOLZER 350', 'validado': 1, 'cantidad_mesas': 11, 'cant_efectivos': 2, 'jefe_local_id': 105735, 'fuerza_jefe_local': 'EJERCITO', 'grado_jefe_local': '(SI) SARGENTO PRIMERO', 'nombre_jefe_local': 'MATIAS', 'apellido_jefe_local': 'RUIZ DIAS', 'telefono_jefe_local': '3482694257', 'castidad_auxiliares': 2, 'votos': 65.0, 'hora': datetime.time(17, 30), 'estado_local': 'NO FINALIZADO', 'estado_causa': 'CONTINÚA VOTACIÓN', 'mesas_no_iniciada': None, 'no_subsanadas': None, 'cant_nov': None, 'situacion': 'Inicio repliegue', 'lon': -60.62198208644986, 'lat': -25.94543163403804}, {'id': 21977, 'distrito': 'CHACO', 'subdistrito': '-', 'seccion': '25', 'circuito': '136', 'nombre': 'E.G.B. N° 802', 'localidad': 'J.J.CASTELLI', 'direccion': 'J.M.DE ROSAS S/N°', 'validado': 1, 'cantidad_mesas': 11, 'cant_efectivos': 2, 'jefe_local_id': 100856, 'fuerza_jefe_local': 'EJERCITO', 'grado_jefe_local': '(SG) SARGENTO', 'nombre_jefe_local': 'MARCELO EMANUEL', 'apellido_jefe_local': 'GALLARDO', 'telefono_jefe_local': '2995240465', 'castidad_auxiliares': 2, 'votos': 65.0, 'hora': datetime.time(17, 30), 'estado_local': 'NO FINALIZADO', 'estado_causa': 'CONTINÚA VOTACIÓN', 'mesas_no_iniciada': None, 'no_subsanadas': None, 'cant_nov': None, 'situacion': 'Inicio repliegue', 'lon': -60.62765764072538, 'lat': -25.94893362044338}, {'id': 21993, 'distrito': 'CHACO', 'subdistrito': '-', 'seccion': '23', 'circuito': '129', 'nombre': 'E.E.P. N° 481 \"JUAN XXIII\"', 'localidad': 'CHOROTIS', 'direccion': 'JOSE RAMOS S/N°', 'validado': 1, 'cantidad_mesas': 5, 'cant_efectivos': 2, 'jefe_local_id': 97366, 'fuerza_jefe_local': 'GENDARMERÍA NACIONAL', 'grado_jefe_local': '(SG) SARGENTO', 'nombre_jefe_local': 'ANGEL', 'apellido_jefe_local': 'PIRIS', 'telefono_jefe_local': '3644571555', 'castidad_auxiliares': 1, 'votos': 65.0, 'hora': datetime.time(17, 30), 'estado_local': 'NO FINALIZADO', 'estado_causa': 'CONTINÚA VOTACIÓN', 'mesas_no_iniciada': None, 'no_subsanadas': None, 'cant_nov': None, 'situacion': 'Replegado', 'lon': -61.402293, 'lat': -27.914567}, {'id': 21987, 'distrito': 'CHACO', 'subdistrito': '-', 'seccion': '24', 'circuito': '131', 'nombre': 'E.G.B. N° 111 \"JUAN TERAN\"', 'localidad': 'PAMPA DEL INFIERNO', 'direccion': 'RECONQUISTA 250', 'validado': 1, 'cantidad_mesas': 10, 'cant_efectivos': 2, 'jefe_local_id': 101160, 'fuerza_jefe_local': 'EJERCITO', 'grado_jefe_local': '(SG) SARGENTO', 'nombre_jefe_local': 'HERNAN', 'apellido_jefe_local': 'MENDOZA', 'telefono_jefe_local': '3794111180', 'castidad_auxiliares': 1, 'votos': 65.0, 'hora': datetime.time(17, 30), 'estado_local': 'NO FINALIZADO', 'estado_causa': 'CONTINÚA VOTACIÓN', 'mesas_no_iniciada': None, 'no_subsanadas': None, 'cant_nov': None, 'situacion': 'Inicio repliegue', 'lon': -61.17198497056961, 'lat': -26.50664052110381}, {'id': 21990, 'distrito': 'CHACO', 'subdistrito': '-', 'seccion': '24', 'circuito': '132', 'nombre': 'E.G.B. N° 460 \"PATRICIAS ARG.\"', 'localidad': 'LOS FRENTONES', 'direccion': 'SARMIENTO S/N°', 'validado': 1, 'cantidad_mesas': 10, 'cant_efectivos': 2, 'jefe_local_id': 101157, 'fuerza_jefe_local': 'EJERCITO', 'grado_jefe_local': '(SI) SARGENTO PRIMERO', 'nombre_jefe_local': 'HECTOR JUAN', 'apellido_jefe_local': 'MORINIGO', 'telefono_jefe_local': '1153150688', 'castidad_auxiliares': 1, 'votos': 65.0, 'hora': datetime.time(17, 30), 'estado_local': 'NO FINALIZADO', 'estado_causa': 'CONTINÚA VOTACIÓN', 'mesas_no_iniciada': None, 'no_subsanadas': None, 'cant_nov': None, 'situacion': 'Inicio repliegue', 'lon': -61.41587555408477, 'lat': -26.40501685391845}, {'id': 21991, 'distrito': 'CHACO', 'subdistrito': '-', 'seccion': '24', 'circuito': '133', 'nombre': 'E.E.S. N° 21 \"GDOR. CASTELL\"', 'localidad': 'TACO POZO', 'direccion': 'SARMIENTO S/N°', 'validado': 1, 'cantidad_mesas': 10, 'cant_efectivos': 2, 'jefe_local_id': 101130, 'fuerza_jefe_local': 'EJERCITO', 'grado_jefe_local': '(SG) SARGENTO', 'nombre_jefe_local': 'FERNANDO EXEQUIEL', 'apellido_jefe_local': 'MAIDANA', 'telefono_jefe_local': '2944627868', 'castidad_auxiliares': 1, 'votos': 65.0, 'hora': datetime.time(17, 30), 'estado_local': 'NO FINALIZADO', 'estado_causa': 'CONTINÚA VOTACIÓN', 'mesas_no_iniciada': None, 'no_subsanadas': None, 'cant_nov': None, 'situacion': 'Inicio repliegue', 'lon': -63.2657065987587, 'lat': -25.61388985667162}, {'id': 21970, 'distrito': 'CHACO', 'subdistrito': '-', 'seccion': '25', 'circuito': '134D', 'nombre': 'EES NRO 97 (EX CEP NRO 97)', 'localidad': 'M NUEVA POMPEYA', 'direccion': 'PLANTA URBANA S/N', 'validado': 1, 'cantidad_mesas': 6, 'cant_efectivos': 2, 'jefe_local_id': 101087, 'fuerza_jefe_local': 'EJERCITO', 'grado_jefe_local': '(SP) SUBOFICIAL PRINCIPAL', 'nombre_jefe_local': 'JUAN RAMON', 'apellido_jefe_local': 'BENITEZ', 'telefono_jefe_local': '3624553205', 'castidad_auxiliares': 1, 'votos': 65.0, 'hora': datetime.time(17, 30), 'estado_local': 'NO FINALIZADO', 'estado_causa': 'CONTINÚA VOTACIÓN', 'mesas_no_iniciada': None, 'no_subsanadas': None, 'cant_nov': None, 'situacion': 'Inicio repliegue', 'lon': -61.48410218955178, 'lat': -24.93405894921247}, {'id': 21972, 'distrito': 'CHACO', 'subdistrito': '-', 'seccion': '25', 'circuito': '134B', 'nombre': 'E.G.B. N° 821', 'localidad': 'EL SAUZALITO', 'direccion': 'CARLOS S. MENEN S/N°', 'validado': 1, 'cantidad_mesas': 10, 'cant_efectivos': 2, 'jefe_local_id': 79588, 'fuerza_jefe_local': 'EJERCITO', 'grado_jefe_local': '(CI) CABO PRIMERO', 'nombre_jefe_local': 'MAURO DANIEL', 'apellido_jefe_local': 'RAMIREZ', 'telefono_jefe_local': '1123892689', 'castidad_auxiliares': 1, 'votos': 65.0, 'hora': datetime.time(17, 30), 'estado_local': 'NO FINALIZADO', 'estado_causa': 'CONTINÚA VOTACIÓN', 'mesas_no_iniciada': None, 'no_subsanadas': None, 'cant_nov': None, 'situacion': 'Inicio repliegue', 'lon': -61.6823798418045, 'lat': -24.42886519044668}, {'id': 21971, 'distrito': 'CHACO', 'subdistrito': '-', 'seccion': '25', 'circuito': '134C', 'nombre': 'E.G.B. N° 517 \"O.DE ZARATE\"', 'localidad': 'WICHI-EL PINTADO', 'direccion': 'WICHI - EL PINTADO', 'validado': 1, 'cantidad_mesas': 4, 'cant_efectivos': 2, 'jefe_local_id': 79453, 'fuerza_jefe_local': 'EJERCITO', 'grado_jefe_local': '(CI) CABO PRIMERO', 'nombre_jefe_local': 'RAMON ALFREDO', 'apellido_jefe_local': 'URBINA', 'telefono_jefe_local': '3794396830', 'castidad_auxiliares': 1, 'votos': 65.0, 'hora': datetime.time(17, 30), 'estado_local': 'NO FINALIZADO', 'estado_causa': 'CONTINÚA VOTACIÓN', 'mesas_no_iniciada': None, 'no_subsanadas': None, 'cant_nov': None, 'situacion': 'Inicio repliegue', 'lon': -61.424772, 'lat': -24.689944}, {'id': 21973, 'distrito': 'CHACO', 'subdistrito': '-', 'seccion': '25', 'circuito': '134A', 'nombre': 'E.G.B. N° 780', 'localidad': 'CCIA.FRIAS', 'direccion': 'COMANDANCIA FRIAS', 'validado': 1, 'cantidad_mesas': 5, 'cant_efectivos': 2, 'jefe_local_id': 56420, 'fuerza_jefe_local': 'EJERCITO', 'grado_jefe_local': '(CB) CABO', 'nombre_jefe_local': 'RODRIGO EZEQUIEL', 'apellido_jefe_local': 'GOMEZ', 'telefono_jefe_local': '1140953678', 'castidad_auxiliares': 1, 'votos': 65.0, 'hora': datetime.time(17, 30), 'estado_local': 'NO FINALIZADO', 'estado_causa': 'CONTINÚA VOTACIÓN', 'mesas_no_iniciada': None, 'no_subsanadas': None, 'cant_nov': None, 'situacion': 'Inicio repliegue', 'lon': -62.239437, 'lat': -24.561732}, {'id': 21978, 'distrito': 'CHACO', 'subdistrito': '-', 'seccion': '25', 'circuito': '136', 'nombre': 'U.E.P. N° 36 \"PIO XII\"', 'localidad': 'J.J.CASTELLI', 'direccion': 'GOBERNADOR GOITIA 545', 'validado': 1, 'cantidad_mesas': 8, 'cant_efectivos': 2, 'jefe_local_id': 105724, 'fuerza_jefe_local': 'EJERCITO', 'grado_jefe_local': '(SP) SUBOFICIAL PRINCIPAL', 'nombre_jefe_local': 'JOSE LUIS', 'apellido_jefe_local': 'GALARZA', 'telefono_jefe_local': '3624048268', 'castidad_auxiliares': 1, 'votos': 65.0, 'hora': datetime.time(17, 30), 'estado_local': 'NO FINALIZADO', 'estado_causa': 'CONTINÚA VOTACIÓN', 'mesas_no_iniciada': None, 'no_subsanadas': None, 'cant_nov': None, 'situacion': 'Inicio repliegue', 'lon': -60.620193220675, 'lat': -25.94355555935262}, {'id': 21992, 'distrito': 'CHACO', 'subdistrito': '-', 'seccion': '24', 'circuito': '130', 'nombre': 'E.G.B. N° 671 \"R.GUIRALDES\"', 'localidad': 'C.DEL BERMEJO', 'direccion': 'M.MORENO 560', 'validado': 1, 'cantidad_mesas': 9, 'cant_efectivos': 2, 'jefe_local_id': 105509, 'fuerza_jefe_local': 'EJERCITO', 'grado_jefe_local': '(SM) SUBOFICIAL MAYOR', 'nombre_jefe_local': 'CARLOS ALBERTO', 'apellido_jefe_local': 'BIANCHETI', 'telefono_jefe_local': '3794570083', 'castidad_auxiliares': 1, 'votos': 65.0, 'hora': datetime.time(17, 30), 'estado_local': 'NO FINALIZADO', 'estado_causa': 'CONTINÚA VOTACIÓN', 'mesas_no_iniciada': None, 'no_subsanadas': None, 'cant_nov': None, 'situacion': 'Inicio repliegue', 'lon': -60.94728039577603, 'lat': -26.59754091425779}, {'id': 36595, 'distrito': 'CHACO', 'subdistrito': '-', 'seccion': '6', 'circuito': '47', 'nombre': 'E.E.P. Nº 454 \"SOLDADO RUBÉN H. GÓMEZ\"', 'localidad': 'PRESIDENCIA DE LA PLAZA', 'direccion': 'MANUEL BELGRANO S/N', 'validado': 1, 'cantidad_mesas': 10, 'cant_efectivos': 2, 'jefe_local_id': 97332, 'fuerza_jefe_local': 'FUERZA AÉREA', 'grado_jefe_local': '(SX) SUBOFICIAL AUXILIAR', 'nombre_jefe_local': 'JOSE LUIS', 'apellido_jefe_local': 'FLORENTIN', 'telefono_jefe_local': '3624965835', 'castidad_auxiliares': 1, 'votos': 65.0, 'hora': datetime.time(17, 30), 'estado_local': 'NO FINALIZADO', 'estado_causa': 'POR ORDEN DE LA JUSTICIA ELECTORAL', 'mesas_no_iniciada': None, 'no_subsanadas': None, 'cant_nov': None, 'situacion': 'Inicio repliegue', 'lon': -59.844713, 'lat': -27.00666}, {'id': 21980, 'distrito': 'CHACO', 'subdistrito': '-', 'seccion': '25', 'circuito': '137', 'nombre': 'EGB NRO 358. IGLESIA DE DIOS NAZARENA', 'localidad': 'ZAPARINQUI', 'direccion': 'ZAPARINQUI', 'validado': 1, 'cantidad_mesas': 4, 'cant_efectivos': 2, 'jefe_local_id': 100849, 'fuerza_jefe_local': 'EJERCITO', 'grado_jefe_local': '(SG) SARGENTO', 'nombre_jefe_local': 'DAMIAN EUGENIO', 'apellido_jefe_local': 'PEÑA', 'telefono_jefe_local': '3764529524', 'castidad_auxiliares': 1, 'votos': 65.0, 'hora': datetime.time(17, 30), 'estado_local': 'NO FINALIZADO', 'estado_causa': 'CONTINÚA VOTACIÓN', 'mesas_no_iniciada': None, 'no_subsanadas': None, 'cant_nov': None, 'situacion': 'Inicio repliegue', 'lon': -60.56338030100959, 'lat': -26.06745237252168}, {'id': 21979, 'distrito': 'CHACO', 'subdistrito': '-', 'seccion': '25', 'circuito': '136', 'nombre': 'E.G.B. N° 255 \"FELIPE BOERO\"', 'localidad': 'J.J.CASTELLI', 'direccion': 'R.DE ESCALADA 850', 'validado': 1, 'cantidad_mesas': 11, 'cant_efectivos': 2, 'jefe_local_id': 101056, 'fuerza_jefe_local': 'EJERCITO', 'grado_jefe_local': '(SG) SARGENTO', 'nombre_jefe_local': 'JULIO JOAQUIN', 'apellido_jefe_local': 'SANCHEZ', 'telefono_jefe_local': '3624038183', 'castidad_auxiliares': 2, 'votos': 65.0, 'hora': datetime.time(17, 30), 'estado_local': 'NO FINALIZADO', 'estado_causa': 'CONTINÚA VOTACIÓN', 'mesas_no_iniciada': None, 'no_subsanadas': None, 'cant_nov': None, 'situacion': 'Inicio repliegue', 'lon': -60.61472939327359, 'lat': -25.94734182135249}, {'id': 36564, 'distrito': 'CHACO', 'subdistrito': '-', 'seccion': '1', 'circuito': '16C', 'nombre': 'E.G.B. N° 3 \"ANT.ARGENTINA\"', 'localidad': 'RESISTENCIA', 'direccion': 'SALTA Nº 1146', 'validado': 1, 'cantidad_mesas': 10, 'cant_efectivos': 2, 'jefe_local_id': 113105, 'fuerza_jefe_local': 'EJERCITO', 'grado_jefe_local': '(SI) SARGENTO PRIMERO', 'nombre_jefe_local': 'CINTHIA SOLEDAD', 'apellido_jefe_local': 'PUYOL', 'telefono_jefe_local': '3625555369', 'castidad_auxiliares': 1, 'votos': 65.0, 'hora': datetime.time(17, 30), 'estado_local': 'NO FINALIZADO', 'estado_causa': 'POR ORDEN DE LA JUSTICIA ELECTORAL', 'mesas_no_iniciada': None, 'no_subsanadas': None, 'cant_nov': None, 'situacion': 'Inicio repliegue', 'lon': -58.999074, 'lat': -27.444045}, {'id': 36561, 'distrito': 'CHACO', 'subdistrito': '-', 'seccion': '1', 'circuito': '20', 'nombre': 'EGB NRO 62 \"V. FEILBERG\"', 'localidad': 'RESISTENCIA', 'direccion': 'Bº FABIANA NORTE', 'validado': 1, 'cantidad_mesas': 4, 'cant_efectivos': 2, 'jefe_local_id': 113452, 'fuerza_jefe_local': 'EJERCITO', 'grado_jefe_local': '(CI) CABO PRIMERO', 'nombre_jefe_local': 'RAMON ISAAC', 'apellido_jefe_local': 'VILLANUEVA', 'telefono_jefe_local': '3777605379', 'castidad_auxiliares': 1, 'votos': 65.0, 'hora': datetime.time(17, 30), 'estado_local': 'NO FINALIZADO', 'estado_causa': 'POR ORDEN DE LA JUSTICIA ELECTORAL', 'mesas_no_iniciada': None, 'no_subsanadas': None, 'cant_nov': None, 'situacion': 'Inicio repliegue', 'lon': -58.93737, 'lat': -27.417796}, {'id': 36560, 'distrito': 'CHACO', 'subdistrito': '-', 'seccion': '1', 'circuito': '20', 'nombre': 'JARDÍN DE INFANTES Nº 232', 'localidad': 'RESISTENCIA', 'direccion': 'AMERI 3989', 'validado': 1, 'cantidad_mesas': 3, 'cant_efectivos': 2, 'jefe_local_id': 113460, 'fuerza_jefe_local': 'EJERCITO', 'grado_jefe_local': '(CB) CABO', 'nombre_jefe_local': 'LUIS FERNANDO', 'apellido_jefe_local': 'GUTIERREZ', 'telefono_jefe_local': '3875887427', 'castidad_auxiliares': 1, 'votos': 65.0, 'hora': datetime.time(17, 30), 'estado_local': 'NO FINALIZADO', 'estado_causa': 'POR ORDEN DE LA JUSTICIA ELECTORAL', 'mesas_no_iniciada': None, 'no_subsanadas': None, 'cant_nov': None, 'situacion': 'Inicio repliegue', 'lon': -58.966775, 'lat': -27.405781}, {'id': 21983, 'distrito': 'CHACO', 'subdistrito': '-', 'seccion': '24', 'circuito': '133', 'nombre': 'E.G.B. N° 928 \"PROF.ORELLANA\"', 'localidad': 'TACO POZO', 'direccion': 'SALTA S/N°', 'validado': 1, 'cantidad_mesas': 10, 'cant_efectivos': 2, 'jefe_local_id': 101137, 'fuerza_jefe_local': 'EJERCITO', 'grado_jefe_local': '(SM) SUBOFICIAL MAYOR', 'nombre_jefe_local': 'GUSTAVO RAMON', 'apellido_jefe_local': 'ENCINA', 'telefono_jefe_local': '3794570083', 'castidad_auxiliares': 1, 'votos': 65.0, 'hora': datetime.time(17, 30), 'estado_local': 'NO FINALIZADO', 'estado_causa': 'CONTINÚA VOTACIÓN', 'mesas_no_iniciada': None, 'no_subsanadas': None, 'cant_nov': None, 'situacion': 'Inicio repliegue', 'lon': -63.26712548732758, 'lat': -25.61973340761337}, {'id': 21982, 'distrito': 'CHACO', 'subdistrito': '-', 'seccion': '24', 'circuito': '132A', 'nombre': 'E.G.B. N° 633 \"E.CHITTY BROWN\"', 'localidad': 'RIO MUERTO', 'direccion': 'RIO MUERTO', 'validado': 1, 'cantidad_mesas': 3, 'cant_efectivos': 2, 'jefe_local_id': 101141, 'fuerza_jefe_local': 'EJERCITO', 'grado_jefe_local': '(SP) SUBOFICIAL PRINCIPAL', 'nombre_jefe_local': 'MARCELO FRANCISCO', 'apellido_jefe_local': 'GOYTIA', 'telefono_jefe_local': '3624390305', 'castidad_auxiliares': 1, 'votos': 65.0, 'hora': datetime.time(17, 30), 'estado_local': 'NO FINALIZADO', 'estado_causa': 'CONTINÚA VOTACIÓN', 'mesas_no_iniciada': None, 'no_subsanadas': None, 'cant_nov': None, 'situacion': 'Inicio repliegue', 'lon': -61.658969, 'lat': -26.304996}, {'id': 21976, 'distrito': 'CHACO', 'subdistrito': '-', 'seccion': '25', 'circuito': '139', 'nombre': 'E.G.B. N° 448', 'localidad': 'EL ESPINILLO', 'direccion': 'M:9 EL ESPINILLO', 'validado': 1, 'cantidad_mesas': 5, 'cant_efectivos': 2, 'jefe_local_id': 100797, 'fuerza_jefe_local': 'EJERCITO', 'grado_jefe_local': '(SG) SARGENTO', 'nombre_jefe_local': 'OSVALDO RAMON', 'apellido_jefe_local': 'FARIAS', 'telefono_jefe_local': '3644575107', 'castidad_auxiliares': 1, 'votos': 65.0, 'hora': datetime.time(17, 30), 'estado_local': 'NO FINALIZADO', 'estado_causa': 'CONTINÚA VOTACIÓN', 'mesas_no_iniciada': None, 'no_subsanadas': None, 'cant_nov': None, 'situacion': 'Inicio repliegue', 'lon': -60.448048, 'lat': -25.409505}, {'id': 36562, 'distrito': 'CHACO', 'subdistrito': '-', 'seccion': '1', 'circuito': '12', 'nombre': 'E.E.E. Nº 29 \"MAESTRO JOSE EFRAIN MUGUILNER VARZAN\"', 'localidad': 'PUERTO VILELAS', 'direccion': 'DEMOCRACIA LOTE 22-', 'validado': 1, 'cantidad_mesas': 7, 'cant_efectivos': 2, 'jefe_local_id': 91755, 'fuerza_jefe_local': 'FUERZA AÉREA', 'grado_jefe_local': '(CP) CABO PRINCIPAL', 'nombre_jefe_local': 'SANTIAGO', 'apellido_jefe_local': 'GODOY', 'telefono_jefe_local': '3794247889', 'castidad_auxiliares': 1, 'votos': 65.0, 'hora': datetime.time(17, 30), 'estado_local': 'NO FINALIZADO', 'estado_causa': 'POR ORDEN DE LA JUSTICIA ELECTORAL', 'mesas_no_iniciada': None, 'no_subsanadas': None, 'cant_nov': None, 'situacion': 'Inicio repliegue', 'lon': -58.941268, 'lat': -27.516045}], columns=[{'name': 'Nombre', 'id': 'nombre'}], editable=False, selected_rows=[], selected_columns=[], page_action='native', page_current=0, page_size=13, sort_action='native', sort_mode='multi', style_cell={'textAlign': 'center', 'fontSize': 12, 'font-family': 'sans-serif'}, style_data={'color': 'black', 'backgroundColor': 'white'}, style_header={'backgroundColor': 'rgb(210, 210, 210)', 'color': 'black', 'fontWeight': 'bold'}, id='datatable')"
      ]
     },
     "execution_count": 59,
     "metadata": {},
     "output_type": "execute_result"
    }
   ],
   "source": [
    "def crear_tabla(df_mov_lista):\n",
    "    df_mov_lista = df_mov_lista.drop(columns=['ubicacion', ])\n",
    "    data_table = dash_table.DataTable(df_mov_lista.to_dict('records'),\n",
    "                                    [{\"name\": i, \"id\": i.lower()} for i in ['Nombre']],\n",
    "                                    id='datatable',\n",
    "                                    editable=False,\n",
    "                                    \n",
    "                                    sort_action=\"native\",\n",
    "                                    sort_mode=\"multi\",\n",
    "                                    selected_columns=[],\n",
    "                                    selected_rows=[],\n",
    "                                \n",
    "                                    page_action=\"native\",\n",
    "                                    page_current=0,\n",
    "                                    page_size=13,\n",
    "                                    style_cell={'textAlign': 'center','fontSize':12, 'font-family':'sans-serif'},\n",
    "                                    style_data={\n",
    "                                        'color': 'black',\n",
    "                                        'backgroundColor': 'white'\n",
    "\n",
    "                                    },\n",
    "                                    style_header={\n",
    "                                        'backgroundColor': 'rgb(210, 210, 210)',\n",
    "                                        'color': 'black',\n",
    "                                        'fontWeight': 'bold'\n",
    "                                    }\n",
    "\n",
    "                                    )\n",
    "    return data_table\n",
    "crear_tabla(df_local)"
   ]
  },
  {
   "cell_type": "code",
   "execution_count": 60,
   "id": "36f80b8d",
   "metadata": {},
   "outputs": [
    {
     "name": "stdout",
     "output_type": "stream",
     "text": [
      "Dash is running on http://127.0.0.1:8050/\n",
      "\n",
      " * Serving Flask app '__main__'\n",
      " * Debug mode: off\n"
     ]
    },
    {
     "name": "stderr",
     "output_type": "stream",
     "text": [
      "\u001b[31m\u001b[1mWARNING: This is a development server. Do not use it in a production deployment. Use a production WSGI server instead.\u001b[0m\n",
      " * Running on http://127.0.0.1:8050\n",
      "\u001b[33mPress CTRL+C to quit\u001b[0m\n",
      "127.0.0.1 - - [29/May/2025 12:07:11] \"GET / HTTP/1.1\" 200 -\n",
      "127.0.0.1 - - [29/May/2025 12:07:11] \"GET /_dash-layout HTTP/1.1\" 200 -\n",
      "127.0.0.1 - - [29/May/2025 12:07:11] \"GET /_dash-dependencies HTTP/1.1\" 200 -\n",
      "127.0.0.1 - - [29/May/2025 12:07:11] \"GET /_favicon.ico?v=2.9.3 HTTP/1.1\" 200 -\n",
      "127.0.0.1 - - [29/May/2025 12:07:11] \"\u001b[36mGET /_dash-component-suites/dash/dash_table/async-highlight.js HTTP/1.1\u001b[0m\" 304 -\n",
      "127.0.0.1 - - [29/May/2025 12:07:11] \"\u001b[36mGET /_dash-component-suites/dash/dash_table/async-table.js HTTP/1.1\u001b[0m\" 304 -\n",
      "127.0.0.1 - - [29/May/2025 12:07:11] \"\u001b[36mGET /_dash-component-suites/dash/dcc/async-graph.js HTTP/1.1\u001b[0m\" 304 -\n",
      "127.0.0.1 - - [29/May/2025 12:07:11] \"\u001b[36mGET /_dash-component-suites/dash/dcc/async-plotlyjs.js HTTP/1.1\u001b[0m\" 304 -\n"
     ]
    }
   ],
   "source": [
    "app = Dash( external_stylesheets=[dbc.themes.DARKLY])\n",
    "todos = [{\"label\": 'TODOS', \"value\": 'TODOS'}]\n",
    "app.layout = html.Div(\n",
    "        [   \n",
    "            dbc.Row([html.H1('ESTADO DE LAS URNAS', style={'textAlign': 'center', 'background-color': '#267300'})]),\n",
    "            dbc.Row([dbc.Select(id=\"selec_distrito\",\n",
    "                                options=todos + [{\"label\": x, \"value\": x} for x in distritos],placeholder='DISTRITO' )]),\n",
    "            dbc.Row([dbc.Col([html.H3('URNAS EN LOCAL', style={'textAlign': 'center', 'background-color': '#ff0000'})]),\n",
    "                     dbc.Col([html.H3(id='urnas', children=[estado_urnas('TODOS')[0]])]),\n",
    "                     dbc.Col([html.H3('EN CORREO', style={'textAlign': 'center', 'background-color': '#e6e600'})]),\n",
    "                     dbc.Col([html.H3(id='urnas_correo', children=[estado_urnas('TODOS')[1]])]),\n",
    "                     dbc.Col([html.H3('URNAS EN LED', style={'textAlign': 'center', 'background-color': '#267300'})]),\n",
    "                     dbc.Col([html.H3(id='urnas_led', children=[estado_urnas('TODOS')[2]])])\n",
    "                                                \n",
    "        ]),                    \n",
    "            dbc.Row([dbc.Col([dbc.Row([dcc.Loading(id=\"ls-loading-2\", children=[crear_tabla(df_local)], type=\"default\")]),\n",
    "                              \n",
    "                              \n",
    "                              ], style={\"height\": \"100%\", }\n",
    "                             , md=4),\n",
    "                     dbc.Col([dbc.Row([dcc.Loading(id=\"ls-loading-3\", children=[dcc.Graph(id='mapa', figure=crear_mapa(df_local,4))], type=\"default\")])], style={\"height\": \"100%\", }, md=5),\n",
    "\n",
    "                     dbc.Col([dbc.Row([dcc.Loading(id=\"ls-loading-4\", children=[dcc.Graph(id='total',figure=crear_porcentaje(df))], type=\"default\")]),\n",
    "                              ],style={\"height\": \"100%\", },md=3),\n",
    "                     ], className=\"g-0\", ),\n",
    "             dcc.Interval(\n",
    "                id='interval-component',\n",
    "                interval=60 * 1000,  # in milliseconds\n",
    "                n_intervals=0\n",
    "            )\n",
    "        ]\n",
    "    )\n",
    "app.run_server()"
   ]
  }
 ],
 "metadata": {
  "kernelspec": {
   "display_name": "elecciones2023-mvfi60CS",
   "language": "python",
   "name": "python3"
  },
  "language_info": {
   "codemirror_mode": {
    "name": "ipython",
    "version": 3
   },
   "file_extension": ".py",
   "mimetype": "text/x-python",
   "name": "python",
   "nbconvert_exporter": "python",
   "pygments_lexer": "ipython3",
   "version": "3.8.9"
  }
 },
 "nbformat": 4,
 "nbformat_minor": 5
}
